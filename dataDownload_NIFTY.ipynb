{
 "cells": [
  {
   "cell_type": "code",
   "execution_count": 1,
   "metadata": {},
   "outputs": [],
   "source": [
    "\n",
    "from breeze_connect import BreezeConnect\n",
    "import urllib\n",
    "import time\n",
    "import datetime\n",
    "from datetime import date, timedelta\n",
    "import pandas as pd\n",
    "import os"
   ]
  },
  {
   "cell_type": "code",
   "execution_count": null,
   "metadata": {},
   "outputs": [],
   "source": [
    "\n",
    "api_key = '<API_KEY>'\n",
    "secret_key = '<secret_key>'\n",
    "breeze = BreezeConnect(api_key=api_key)\n",
    "print(\"https://api.icicidirect.com/apiuser/login?api_key=\"+urllib.parse.quote_plus(api_key))\n",
    "session_token = (input(\"Enter Session Token After Auth!\"))\n",
    "breeze.generate_session(api_secret=secret_key,\n",
    "                        session_token=session_token)\n",
    "# import datetime\n",
    "# iso_date_string = datetime.datetime.strptime(\"28/02/2021\",\"%d/%m/%Y\").isoformat()[:10] + 'T05:30:00.000Z'\n",
    "# iso_date_time_string = datetime.datetime.strptime(\"28/02/2021 23:59:59\",\"%d/%m/%Y %H:%M:%S\").isoformat()[:19] + '.000Z'"
   ]
  },
  {
   "cell_type": "code",
   "execution_count": 3,
   "metadata": {},
   "outputs": [],
   "source": [
    "# MonthlyExpiry = ['2022-08-25','2022-09-29', '2022-10-27', '2022-11-24', '2022-12-29', '2023-01-25', '2023-02-23']\n",
    "# MonthlyExpiryPrev = ['2020-12-31','2021-01-28', '2021-02-25', '2021-03-25', '2021-04-29', '2021-05-27', '2021-06-24', '2021-07-29', '2021-08-26', '2021-09-30','2021-10-28','2021-11-25', '2021-12-30']\n",
    "# weeklyExpiry = ['2022-08-04', '2022-08-11', '2022-08-18', '2022-08-25', '2022-09-01', '2022-09-08', '2022-09-15', '2022-09-22', '2022-09-29', '2022-10-06', '2022-10-13', '2022-10-20', '2022-10-27', '2022-11-03', '2022-11-10', '2022-11-17', '2022-11-24', '2022-12-01', '2022-12-08', '2022-12-15', '2022-12-22', '2022-12-29', '2023-01-05', '2023-01-12', '2023-01-19', '2023-01-25', '2023-02-02', '2023-02-09', '2023-02-16', '2022-01-27','2022-02-24','2022-03-31', '2022-04-28','2022-05-26', '2022-06-30','2022-07-28']\n",
    "# weeklyExpiryPrev = ['2020-12-03', '2020-12-10', '2020-12-17', '2020-12-24', '2020-12-31', '2021-01-07', '2021-01-14', '2021-01-21', '2021-01-28', '2021-02-04', '2021-02-11', '2021-02-18', '2021-02-25', '2021-03-04', '2021-03-10', '2021-03-18', '2021-03-25', '2021-04-01', '2021-04-08', '2021-04-15', '2021-04-22', '2021-04-29', '2021-05-06', '2021-05-12', '2021-05-20', '2021-05-27', '2021-06-03', '2021-06-10', '2021-06-17', '2021-06-24', '2021-07-01', '2021-07-08', '2021-07-15', '2021-07-22', '2021-07-29', '2021-08-05', '2021-08-12', '2021-08-18', '2021-08-26', '2021-09-02', '2021-09-09', '2021-09-16', '2021-09-23', '2021-09-30', '2021-10-07', '2021-10-14', '2021-10-21', '2021-10-28', '2021-11-03', '2021-11-11', '2021-11-18', '2021-11-25', '2021-12-02', '2021-12-09', '2021-12-16', '2021-12-23', '2021-12-30','2022-01-06', '2022-01-13', '2022-01-20', '2022-01-27', '2022-02-03', '2022-02-10', '2022-02-17', '2022-02-24', '2022-03-03', '2022-03-10', '2022-03-17', '2022-03-24', '2022-03-31', '2022-04-07', '2022-04-13', '2022-04-21', '2022-04-28', '2022-05-05', '2022-05-12', '2022-05-19', '2022-05-26', '2022-06-02', '2022-06-09', '2022-06-16', '2022-06-23', '2022-06-30', '2022-07-07', '2022-07-14', '2022-07-21', '2022-07-28']"
   ]
  },
  {
   "cell_type": "code",
   "execution_count": 4,
   "metadata": {},
   "outputs": [],
   "source": [
    "holidays = ['2019-11-12','2019-12-25','2019-10-28','2019-10-08','2019-10-02','2019-09-10','2019-09-02','2019-08-15','2019-08-12','2019-06-05','2019-05-01','2019-04-19','2019-04-17','2019-03-21','2019-03-04','2020-02-21','2020-03-10','2020-04-02','2020-04-06','2020-04-10','2020-04-14','2020-05-01','2020-05-25','2020-10-02','2020-11-16','2020-11-30','2020-12-25','2021-07-21','2021-05-13','2021-04-21','2021-04-14','2021-04-02','2021-03-29','2021-03-11','2021-04-21','2021-08-19','2021-08-19','2021-10-15','2021-09-10','2021-11-04','2021-11-05','2021-11-19','2023-01-26', '2022-01-26', '2021-01-26', '2020-01-26', '2022-11-08', '2022-10-26', '2022-10-24', '2022-10-05', '2022-08-31', '2022-08-15', '2022-08-09', '2022-05-03', '2022-04-15', '2022-04-14', '2022-03-18', '2022-03-01', '2023-03-07', '2023-03-30', '2023-04-04', '2023-04-07', '2023-04-14', '2023-04-22']\n",
    "\n",
    "'''expiry dates you want to download'''\n",
    "# weekly = [ '2021-11-03', '2021-11-11', '2021-11-18', '2021-11-25', '2021-12-02', '2021-12-09', '2021-12-16', '2021-12-23', '2021-12-30','2022-01-06', '2022-01-13', '2022-01-20', '2022-01-27', '2022-02-03', '2022-02-10', '2022-02-17', '2022-02-24', '2022-03-03', '2022-03-10', '2022-03-17', '2022-03-24', '2022-03-31', '2022-04-07', '2022-04-13', '2022-04-21', '2022-04-28', '2022-05-05', '2022-05-12', '2022-05-19', '2022-05-26', '2022-06-02', '2022-06-09', '2022-06-16', '2022-06-23', '2022-06-30', '2022-07-07', '2022-07-14', '2022-07-21', '2022-07-28']\n",
    "# weekly2020 = ['2020-01-02', '2020-01-09', '2020-01-16', '2020-01-23', '2020-01-30', '2020-02-06', '2020-02-13', '2020-02-20', '2020-02-27', '2020-03-05', '2020-03-12', '2020-03-19', '2020-03-26', '2020-04-02', '2020-04-09', '2020-04-16', '2020-04-23', '2020-04-30', '2020-05-07', '2020-05-14', '2020-05-21', '2020-05-28', '2020-06-04', '2020-06-11', '2020-06-18', '2020-06-25', '2020-07-02', '2020-07-09', '2020-07-16', '2020-07-23', '2020-07-30', '2020-08-06', '2020-08-13', '2020-08-20', '2020-08-27', '2020-09-03', '2020-09-10', '2020-09-17', '2020-09-24', '2020-10-01', '2020-10-08', '2020-10-15', '2020-10-22', '2020-10-29', '2020-11-05', '2020-11-12', '2020-11-19', '2020-11-26', '2020-12-03', '2020-12-10', '2020-12-17', '2020-12-24', '2020-12-31']\n",
    "# weekly2019 = ['2019-01-03', '2019-01-10', '2019-01-17', '2019-01-24', '2019-01-31', '2019-02-07', '2019-02-14', '2019-02-21', '2019-02-28', '2019-03-07', '2019-03-14', '2019-03-20', '2019-03-28', '2019-04-04', '2019-04-11', '2019-04-18', '2019-04-25', '2019-05-02', '2019-05-09', '2019-05-16', '2019-05-23', '2019-05-30', '2019-06-06', '2019-06-13', '2019-06-20', '2019-06-27', '2019-07-04', '2019-07-11', '2019-07-18', '2019-07-25', '2019-08-01', '2019-08-08', '2019-08-14', '2019-08-22', '2019-08-29', '2019-09-05', '2019-09-12', '2019-09-19', '2019-09-26', '2019-10-03', '2019-10-10', '2019-10-17', '2019-10-24', '2019-10-31', '2019-11-07', '2019-11-14', '2019-11-21', '2019-11-28', '2019-12-05', '2019-12-12', '2019-12-19', '2019-12-26']\n",
    "# weekly2021 = ['2021-01-07', '2021-01-14', '2021-01-21','2021-01-28', '2021-02-04', '2021-02-11', '2021-02-18', '2021-02-25', '2021-03-04', '2021-03-10', '2021-03-18', '2021-03-25', '2021-04-01', '2021-04-08', '2021-04-15', '2021-04-22', '2021-04-29', '2021-05-06', '2021-05-12', '2021-05-20', '2021-05-27', '2021-06-03', '2021-06-10', '2021-06-17', '2021-06-24', '2021-07-01', '2021-07-08', '2021-07-15', '2021-07-22', '2021-07-29', '2021-08-05', '2021-08-12', '2021-08-18', '2021-08-26', '2021-09-02', '2021-09-09', '2021-09-16', '2021-09-23', '2021-09-30', '2021-10-07', '2021-10-14', '2021-10-21', '2021-10-28', '2021-11-03', '2021-11-11', '2021-11-18', '2021-11-25', '2021-12-02', '2021-12-09', '2021-12-16', '2021-12-23', '2021-12-30','2022-01-06', '2022-01-13',]\n",
    "# # weekly2022_2023 = ['2022-01-06', '2022-01-13', '2022-01-20', '2022-01-27', '2022-02-03', '2022-02-10', '2022-02-17', '2022-02-24', '2022-03-03', '2022-03-10', '2022-03-17', '2022-03-24', '2022-03-31', '2022-04-07', '2022-04-13', '2022-04-21', '2022-04-28', '2022-05-05', '2022-05-12', '2022-05-19', '2022-05-26', '2022-06-02', '2022-06-09', '2022-06-16', '2022-06-23', '2022-06-30', '2022-07-07', '2022-07-14', '2022-07-21', '2022-07-28','2022-08-04', '2022-08-11', '2022-08-18', '2022-08-25', '2022-09-01', '2022-09-08', '2022-09-15','2022-09-22','2022-09-29', '2022-10-06', '2022-10-13','2022-10-20', '2022-10-27', '2022-11-03', '2022-11-10', '2022-11-17', '2022-11-24', '2022-12-01', '2022-12-08', '2022-12-15', '2022-12-22', '2022-12-29', '2023-01-05','2023-01-12','2023-01-19','2023-01-25', '2023-02-02', '2023-02-09', '2023-02-16', '2023-02-23', '2023-03-02', '2023-03-09','2023-03-16','2023-03-23', '2023-03-29']\n",
    "# # weekly = ['2020-01-02', '2020-01-09', '2020-01-16', '2020-01-23', '2020-01-30', '2020-02-06', '2020-02-13', '2020-02-20', '2020-02-27', '2020-03-05', '2020-03-12', '2020-03-19', '2020-03-26', '2020-04-02', '2020-04-09', '2020-04-16', '2020-04-23', '2020-04-30', '2020-05-07', '2020-05-14', '2020-05-21', '2020-05-28', '2020-06-04', '2020-06-11', '2020-06-18', '2020-06-25', '2020-07-02', '2020-07-09', '2020-07-16', '2020-07-23', '2020-07-30', '2020-08-06', '2020-08-13', '2020-08-20', '2020-08-27', '2020-09-03', '2020-09-10', '2020-09-17', '2020-09-24', '2020-10-01', '2020-10-08', '2020-10-15', '2020-10-22', '2020-10-29', '2020-11-05', '2020-11-12', '2020-11-19', '2020-11-26', '2020-12-03', '2020-12-10', '2020-12-17', '2020-12-24', '2020-12-31','2021-01-07', '2021-01-14', '2021-01-21','2021-01-28', '2021-02-04', '2021-02-11', '2021-02-18', '2021-02-25', '2021-03-04', '2021-03-10', '2021-03-18', '2021-03-25', '2021-04-01', '2021-04-08', '2021-04-15', '2021-04-22', '2021-04-29', '2021-05-06', '2021-05-12', '2021-05-20', '2021-05-27', '2021-06-03', '2021-06-10', '2021-06-17', '2021-06-24', '2021-07-01', '2021-07-08', '2021-07-15', '2021-07-22', '2021-07-29', '2021-08-05', '2021-08-12', '2021-08-18', '2021-08-26', '2021-09-02', '2021-09-09', '2021-09-16', '2021-09-23', '2021-09-30', '2021-10-07', '2021-10-14', '2021-10-21', '2021-10-28', '2021-11-03', '2021-11-11', '2021-11-18', '2021-11-25', '2021-12-02', '2021-12-09', '2021-12-16', '2021-12-23', '2021-12-30','2022-01-06', '2022-01-13', '2022-01-20', '2022-01-27', '2022-02-03', '2022-02-10', '2022-02-17', '2022-02-24', '2022-03-03', '2022-03-10', '2022-03-17', '2022-03-24', '2022-03-31', '2022-04-07', '2022-04-13', '2022-04-21', '2022-04-28', '2022-05-05', '2022-05-12', '2022-05-19', '2022-05-26', '2022-06-02', '2022-06-09', '2022-06-16', '2022-06-23', '2022-06-30', '2022-07-07', '2022-07-14', '2022-07-21', '2022-07-28','2022-08-04', '2022-08-11', '2022-08-18', '2022-08-25', '2022-09-01', '2022-09-08', '2022-09-15','2022-09-22','2022-09-29', '2022-10-06', '2022-10-13','2022-10-20', '2022-10-27', '2022-11-03', '2022-11-10', '2022-11-17', '2022-11-24', '2022-12-01', '2022-12-08', '2022-12-15', '2022-12-22', '2022-12-29', '2023-01-05','2023-01-12','2023-01-19','2023-01-25', '2023-02-02', '2023-02-09', '2023-02-16', '2023-02-23', '2023-03-02', '2023-03-09','2023-03-16','2023-03-23', '2023-03-29', '2023-04-06','2023-04-13']\n",
    "# # # weekly = ['2020-12-24', '2020-12-31','2021-01-07', '2021-01-14', '2021-01-21','2021-01-28', '2021-02-04', '2021-02-11', '2021-02-18', '2021-02-25', '2021-03-04', '2021-03-10', '2021-03-18', '2021-03-25', '2021-04-01', '2021-04-08', '2021-04-15', '2021-04-22', '2021-04-29', '2021-05-06', '2021-05-12', '2021-05-20', '2021-05-27', '2021-06-03', '2021-06-10', '2021-06-17', '2021-06-24', '2021-07-01', '2021-07-08', '2021-07-15', '2021-07-22', '2021-07-29', '2021-08-05', '2021-08-12', '2021-08-18', '2021-08-26', '2021-09-02', '2021-09-09', '2021-09-16', '2021-09-23', '2021-09-30', '2021-10-07', '2021-10-14', '2021-10-21', '2021-10-28', '2021-11-03', '2021-11-11', '2021-11-18', '2021-11-25', '2021-12-02', '2021-12-09', '2021-12-16', '2021-12-23', '2021-12-30','2022-01-06', '2022-01-13']\n",
    "# # weekly = ['2021-09-02', '2021-09-09', '2021-09-16', '2021-09-23', '2021-09-30', '2021-10-07', '2021-10-14', '2021-10-21', '2021-10-28', '2021-11-03', '2021-11-11', '2021-11-18', '2021-11-25', '2021-12-02', '2021-12-09', '2021-12-16', '2021-12-23', '2021-12-30','2022-01-06', '2022-01-13']\n",
    "# # weekly = ['2022-04-07', '2022-04-13','2022-04-21', '2022-04-28', '2022-05-05', '2022-05-12']\n",
    "# \"'2019-02-07', '2019-02-14', '2019-02-21', '2019-02-28', '2019-03-07', '2019-03-14', '2019-03-20', '2019-03-28',\"\n",
    "weekly = ['2023-04-13', '2023-04-20','2023-04-27']"
   ]
  },
  {
   "cell_type": "code",
   "execution_count": 8,
   "metadata": {},
   "outputs": [],
   "source": [
    "startDate = datetime.datetime.strptime(\"2023-04-10 09:14:59\",\"%Y-%m-%d %H:%M:%S\")\n",
    "endDate = datetime.datetime.strptime(\"2023-04-21 15:30:59\",\"%Y-%m-%d %H:%M:%S\")\n",
    "flag = True\n",
    "flagExpiry = True\n",
    "dataStrikes = {}\n",
    "dataStrikesOld = {}\n",
    "monthlyIndex = 0\n",
    "expiryIndex = 0\n",
    "futDataList = []"
   ]
  },
  {
   "cell_type": "code",
   "execution_count": 9,
   "metadata": {},
   "outputs": [
    {
     "name": "stdout",
     "output_type": "stream",
     "text": [
      "2023-04-10 1790195\n",
      "2023-04-11 1807029\n",
      "2023-04-12 1809357\n",
      "2023-04-13 1668831\n",
      "2023-04-14 2\n",
      "no Data\n",
      "2023-04-15 2\n",
      "no Data\n",
      "2023-04-16 2\n",
      "no Data\n",
      "2023-04-17 1584904\n",
      "2023-04-18 1665532\n",
      "2023-04-19 1738140\n",
      "[WinError 2] The system cannot find the file specified: './dataX/NF2023/OPT_2023-04-20_New.csv'\n",
      "[17500, 17550, 17600, 17650, 17700, 17750]\n",
      "list index out of range 2023-04-20 09:14:59\n",
      "[WinError 2] The system cannot find the file specified: './dataX/NF2023/OPT_2023-04-21_New.csv'\n",
      "[17500, 17550, 17600, 17650, 17700, 17750]\n",
      "unsupported operand type(s) for +=: 'NoneType' and 'NoneType' OLD\n",
      "17500 1 2023-04-27 2023-04-21 09:14:59 2023-04-24 15:30:59\n",
      "unsupported operand type(s) for +=: 'NoneType' and 'NoneType' OLD\n",
      "17550 1 2023-04-27 2023-04-21 09:14:59 2023-04-24 15:30:59\n",
      "unsupported operand type(s) for +=: 'NoneType' and 'NoneType' OLD\n",
      "17600 1 2023-04-27 2023-04-21 09:14:59 2023-04-24 15:30:59\n",
      "unsupported operand type(s) for +=: 'NoneType' and 'NoneType' OLD\n",
      "17650 1 2023-04-27 2023-04-21 09:14:59 2023-04-24 15:30:59\n",
      "unsupported operand type(s) for +=: 'NoneType' and 'NoneType' OLD\n",
      "17700 1 2023-04-27 2023-04-21 09:14:59 2023-04-24 15:30:59\n",
      "unsupported operand type(s) for +=: 'NoneType' and 'NoneType' OLD\n",
      "17750 1 2023-04-27 2023-04-21 09:14:59 2023-04-24 15:30:59\n",
      "list index out of range 2023-04-21 09:14:59\n",
      "'NoneType' object is not iterable\n"
     ]
    }
   ],
   "source": [
    "while flag:\n",
    "    try:\n",
    "        print(startDate.date(),os.path.getsize(f'./dataX/NF2023/OPT_{str(startDate.date())}_New.csv'))\n",
    "        if int(os.path.getsize(f'./dataX/NF2023/OPT_{str(startDate.date())}_New.csv')) > 1000:\n",
    "            startDate = startDate + timedelta(days=1)\n",
    "            if startDate>endDate:\n",
    "                flag = False\n",
    "            continue\n",
    "        else:\n",
    "            pass\n",
    "    except Exception as e:\n",
    "        print(e)\n",
    "    while flagExpiry:\n",
    "        if str(startDate.date()) >= weekly[expiryIndex]:\n",
    "            expiryIndex+=1\n",
    "        flagExpiry = False\n",
    "    futData = breeze.get_historical_data_v2(interval=\"1minute\",\n",
    "        from_date= startDate.isoformat()[:19] + '.000Z',\n",
    "        to_date= (startDate+timedelta(hours=6, minutes=16)).isoformat()[:19] + '.000Z',\n",
    "        stock_code=\"NIFTY\",\n",
    "        exchange_code=\"NSE\",\n",
    "        product_type=\"cash\")\n",
    "    try:\n",
    "        dataX = futData['Success']\n",
    "        if len(dataX)!=0:\n",
    "            open = float(dataX[0]['open'])\n",
    "            rangePrice = list(range(50*round((open - 150)/50), 50*round((open + 150)/50), 50))\n",
    "            futDataList +=dataX\n",
    "            print(rangePrice)\n",
    "            count = 1\n",
    "            while True:\n",
    "                nextDate = startDate+timedelta(days=count)\n",
    "                if str(nextDate.date())in holidays:\n",
    "                    count +=1\n",
    "                elif nextDate.date().weekday()==5 or nextDate.date().weekday()==6:\n",
    "                    count +=1\n",
    "                else:\n",
    "                    nextDate = startDate+ timedelta(days=count, hours=6, minutes=16)\n",
    "                    break\n",
    "\n",
    "            for expiryCount in range(2):\n",
    "                expiryDate = weekly[expiryIndex+expiryCount]\n",
    "                for i in range(2):\n",
    "                    if i==0:\n",
    "                        type='call'\n",
    "                    else:\n",
    "                        type = 'put'\n",
    "                    for strikePrice in rangePrice:\n",
    "                        try:\n",
    "                            dataX = breeze.get_historical_data_v2(interval=\"1minute\",\n",
    "                                from_date= startDate.isoformat()[:19] + '.000Z',\n",
    "                                to_date= nextDate.isoformat()[:19] + '.000Z',\n",
    "                                stock_code=\"NIFTY\",\n",
    "                                exchange_code=\"NFO\",\n",
    "                                product_type=\"options\",\n",
    "                                expiry_date=f\"{expiryDate}T07:00:00.000Z\",\n",
    "                                right=type,\n",
    "                                strike_price=str(strikePrice))\n",
    "                                # raise\n",
    "                            # if dataX['Success'] == []:\n",
    "                            if str(strikePrice) in dataStrikes.keys():\n",
    "                                dataStrikes[str(strikePrice)]+=dataX['Success']\n",
    "                            else:\n",
    "                                dataStrikes[str(strikePrice)]=dataX['Success']\n",
    "                        except Exception as e:\n",
    "                            # print(dataX)\n",
    "                            print(e, 'NEW')\n",
    "                            print(strikePrice, i, expiryDate, startDate, nextDate)\n",
    "                        \n",
    "                        try:\n",
    "                            dataXOld = breeze.get_historical_data(interval=\"1minute\",\n",
    "                                from_date= startDate.isoformat()[:19] + '.000Z',\n",
    "                                to_date= nextDate.isoformat()[:19] + '.000Z',\n",
    "                                stock_code=\"NIFTY\",\n",
    "                                exchange_code=\"NFO\",\n",
    "                                product_type=\"options\",\n",
    "                                expiry_date=f\"{expiryDate}T07:00:00.000Z\",\n",
    "                                right=type,\n",
    "                                strike_price=str(strikePrice))\n",
    "                                # raise\n",
    "                            # if dataX['Success'] == []:\n",
    "                            if str(strikePrice) in dataStrikesOld.keys():\n",
    "                                dataStrikesOld[str(strikePrice)]+=dataXOld['Success']\n",
    "                            else:\n",
    "                                dataStrikesOld[str(strikePrice)]=dataXOld['Success']\n",
    "                        except Exception as e:\n",
    "                            # print(dataX)\n",
    "                            print(e, 'OLD')\n",
    "                            print(strikePrice, i, expiryDate, startDate, nextDate)\n",
    "        else:\n",
    "            print(\"no Data\")\n",
    "    except Exception as e:\n",
    "        print(e, startDate)\n",
    "    listX = []\n",
    "    try:\n",
    "        for i in dataStrikes.keys():\n",
    "            listX += dataStrikes[i]\n",
    "        df = pd.DataFrame.from_dict(listX)\n",
    "        df.to_csv(f'./dataX/NF2023/OPT_{str(startDate.date())}_New.csv', index = False)\n",
    "        # print(df)\n",
    "    except Exception as e:\n",
    "        print(e)\n",
    "        pass\n",
    "    dataStrikes = {}\n",
    "    \n",
    "    listX = []\n",
    "    try:\n",
    "        for i in dataStrikesOld.keys():\n",
    "            listX += dataStrikesOld[i]\n",
    "        df = pd.DataFrame.from_dict(listX)\n",
    "        df.to_csv(f'./dataX/NF2023/OPT_{str(startDate.date())}.csv', index = False)\n",
    "        # print(df)\n",
    "    except Exception as e:\n",
    "        print(e)\n",
    "        pass\n",
    "    dataStrikesOld = {}\n",
    "    time.sleep(2)\n",
    "    # startDate = nextDate\n",
    "    startDate = startDate + timedelta(days=1)\n",
    "    flagExpiry = True\n",
    "    if startDate>endDate:\n",
    "        flag = False"
   ]
  },
  {
   "cell_type": "code",
   "execution_count": 8,
   "metadata": {},
   "outputs": [
    {
     "data": {
      "text/plain": [
       "{'close': '17613.05',\n",
       " 'datetime': '2023-04-10 15:29:00',\n",
       " 'exchange_code': 'NSE',\n",
       " 'high': '17617.15',\n",
       " 'low': '17608.65',\n",
       " 'open': '17615.65',\n",
       " 'stock_code': 'NIFTY',\n",
       " 'volume': 0}"
      ]
     },
     "execution_count": 8,
     "metadata": {},
     "output_type": "execute_result"
    }
   ],
   "source": [
    "futDataList[-1]"
   ]
  },
  {
   "cell_type": "code",
   "execution_count": 11,
   "metadata": {},
   "outputs": [],
   "source": [
    "futDataDF = pd.DataFrame(futDataList)\n",
    "# futDataDF.to_csv('./dataX/NF2023/NFMarch.csv', mode='a',index=False, header=False)\n",
    "futDataDF.to_csv('./dataX/NF2023/NFMarch.csv', mode='w', index=False)"
   ]
  },
  {
   "cell_type": "markdown",
   "metadata": {},
   "source": []
  },
  {
   "cell_type": "code",
   "execution_count": 68,
   "metadata": {},
   "outputs": [],
   "source": [
    "startDate = datetime.datetime.strptime(\"2022-10-23 09:14:59\",\"%Y-%m-%d %H:%M:%S\")\n",
    "futData = breeze.get_historical_data_v2(interval=\"1minute\",\n",
    "        from_date= startDate.isoformat()[:19] + '.000Z',\n",
    "        to_date= (startDate+timedelta(hours=6, minutes=16)).isoformat()[:19] + '.000Z',\n",
    "        stock_code=\"NIFTY\",\n",
    "        exchange_code=\"NSE\",\n",
    "        product_type=\"cash\")\n",
    "futData"
   ]
  },
  {
   "cell_type": "code",
   "execution_count": 34,
   "metadata": {},
   "outputs": [],
   "source": [
    "startDate = datetime.datetime.strptime(\"2022-03-29 09:14:59\",\"%Y-%m-%d %H:%M:%S\")\n",
    "futData = breeze.get_historical_data_v2(interval=\"1minute\",\n",
    "        from_date= startDate.isoformat()[:19] + '.000Z',\n",
    "        to_date= (startDate+timedelta(hours=6, minutes=16)).isoformat()[:19] + '.000Z',\n",
    "        stock_code=\"NIFTY\",\n",
    "        exchange_code=\"NSE\",\n",
    "        product_type=\"cash\")"
   ]
  },
  {
   "cell_type": "code",
   "execution_count": 35,
   "metadata": {},
   "outputs": [],
   "source": [
    "futDataList = futData['Success']"
   ]
  },
  {
   "cell_type": "code",
   "execution_count": 36,
   "metadata": {},
   "outputs": [
    {
     "data": {
      "text/plain": [
       "[]"
      ]
     },
     "execution_count": 36,
     "metadata": {},
     "output_type": "execute_result"
    }
   ],
   "source": [
    "futDataList"
   ]
  },
  {
   "cell_type": "code",
   "execution_count": 10,
   "metadata": {},
   "outputs": [],
   "source": [
    "futDataDF = pd.DataFrame(futDataList)\n",
    "futDataDF.to_csv('./dataX/NF2023/NFCash3.csv', index=False)"
   ]
  },
  {
   "cell_type": "code",
   "execution_count": 17,
   "metadata": {},
   "outputs": [],
   "source": [
    "startDate = datetime.datetime.strptime(\"2020-03-13 09:14:59\",\"%Y-%m-%d %H:%M:%S\")\n",
    "endDate = datetime.datetime.strptime(\"2020-03-16 15:30:59\",\"%Y-%m-%d %H:%M:%S\")\n",
    "# startDate = '2023-02-01'\n",
    "expiryDate = '2020-03-19'\n",
    "count = 1\n",
    "dataX = breeze.get_historical_data_v2(interval=\"1minute\",\n",
    "    from_date= startDate.isoformat()[:19] + '.000Z',\n",
    "    to_date= endDate.isoformat()[:19] + '.000Z',\n",
    "    stock_code=\"NIFTY\",\n",
    "    exchange_code=\"NFO\",\n",
    "    product_type=\"options\",\n",
    "    expiry_date=f\"{expiryDate}T07:00:00.000Z\",\n",
    "    right='call',\n",
    "    strike_price=str(8850))"
   ]
  },
  {
   "cell_type": "code",
   "execution_count": 18,
   "metadata": {},
   "outputs": [
    {
     "data": {
      "text/plain": [
       "{'Error': None,\n",
       " 'Status': 200,\n",
       " 'Success': [{'close': '939.55',\n",
       "   'datetime': '2020-03-13 11:07:00',\n",
       "   'exchange_code': 'NFO',\n",
       "   'expiry_date': '19-MAR-2020',\n",
       "   'high': '939.55',\n",
       "   'low': '939.55',\n",
       "   'open': '939.55',\n",
       "   'open_interest': 0,\n",
       "   'product_type': 'Options',\n",
       "   'right': 'Call',\n",
       "   'stock_code': 'NIFTY',\n",
       "   'strike_price': '8850',\n",
       "   'volume': 76},\n",
       "  {'close': '962.70',\n",
       "   'datetime': '2020-03-13 11:11:00',\n",
       "   'exchange_code': 'NFO',\n",
       "   'expiry_date': '19-MAR-2020',\n",
       "   'high': '962.70',\n",
       "   'low': '962.70',\n",
       "   'open': '962.70',\n",
       "   'open_interest': 75,\n",
       "   'product_type': 'Options',\n",
       "   'right': 'Call',\n",
       "   'stock_code': 'NIFTY',\n",
       "   'strike_price': '8850',\n",
       "   'volume': 75},\n",
       "  {'close': '962.70',\n",
       "   'datetime': '2020-03-13 11:49:00',\n",
       "   'exchange_code': 'NFO',\n",
       "   'expiry_date': '19-MAR-2020',\n",
       "   'high': '962.70',\n",
       "   'low': '962.70',\n",
       "   'open': '962.70',\n",
       "   'open_interest': 75,\n",
       "   'product_type': 'Options',\n",
       "   'right': 'Call',\n",
       "   'stock_code': 'NIFTY',\n",
       "   'strike_price': '8850',\n",
       "   'volume': 75},\n",
       "  {'close': '835.80',\n",
       "   'datetime': '2020-03-13 12:12:00',\n",
       "   'exchange_code': 'NFO',\n",
       "   'expiry_date': '19-MAR-2020',\n",
       "   'high': '835.80',\n",
       "   'low': '835.80',\n",
       "   'open': '835.80',\n",
       "   'open_interest': 75,\n",
       "   'product_type': 'Options',\n",
       "   'right': 'Call',\n",
       "   'stock_code': 'NIFTY',\n",
       "   'strike_price': '8850',\n",
       "   'volume': 75},\n",
       "  {'close': '1177.50',\n",
       "   'datetime': '2020-03-13 13:04:00',\n",
       "   'exchange_code': 'NFO',\n",
       "   'expiry_date': '19-MAR-2020',\n",
       "   'high': '1177.50',\n",
       "   'low': '1177.50',\n",
       "   'open': '1177.50',\n",
       "   'open_interest': 150,\n",
       "   'product_type': 'Options',\n",
       "   'right': 'Call',\n",
       "   'stock_code': 'NIFTY',\n",
       "   'strike_price': '8850',\n",
       "   'volume': 75},\n",
       "  {'close': '1177.50',\n",
       "   'datetime': '2020-03-13 13:05:00',\n",
       "   'exchange_code': 'NFO',\n",
       "   'expiry_date': '19-MAR-2020',\n",
       "   'high': '1177.50',\n",
       "   'low': '1177.50',\n",
       "   'open': '1177.50',\n",
       "   'open_interest': 150,\n",
       "   'product_type': 'Options',\n",
       "   'right': 'Call',\n",
       "   'stock_code': 'NIFTY',\n",
       "   'strike_price': '8850',\n",
       "   'volume': 75},\n",
       "  {'close': '1190.75',\n",
       "   'datetime': '2020-03-13 13:30:00',\n",
       "   'exchange_code': 'NFO',\n",
       "   'expiry_date': '19-MAR-2020',\n",
       "   'high': '1190.75',\n",
       "   'low': '1190.75',\n",
       "   'open': '1190.75',\n",
       "   'open_interest': 150,\n",
       "   'product_type': 'Options',\n",
       "   'right': 'Call',\n",
       "   'stock_code': 'NIFTY',\n",
       "   'strike_price': '8850',\n",
       "   'volume': 75},\n",
       "  {'close': '626.05',\n",
       "   'datetime': '2020-03-16 14:05:00',\n",
       "   'exchange_code': 'NFO',\n",
       "   'expiry_date': '19-MAR-2020',\n",
       "   'high': '626.05',\n",
       "   'low': '626.05',\n",
       "   'open': '626.05',\n",
       "   'open_interest': 150,\n",
       "   'product_type': 'Options',\n",
       "   'right': 'Call',\n",
       "   'stock_code': 'NIFTY',\n",
       "   'strike_price': '8850',\n",
       "   'volume': 76},\n",
       "  {'close': '551.90',\n",
       "   'datetime': '2020-03-16 14:25:00',\n",
       "   'exchange_code': 'NFO',\n",
       "   'expiry_date': '19-MAR-2020',\n",
       "   'high': '551.90',\n",
       "   'low': '551.90',\n",
       "   'open': '551.90',\n",
       "   'open_interest': 150,\n",
       "   'product_type': 'Options',\n",
       "   'right': 'Call',\n",
       "   'stock_code': 'NIFTY',\n",
       "   'strike_price': '8850',\n",
       "   'volume': 75}]}"
      ]
     },
     "execution_count": 18,
     "metadata": {},
     "output_type": "execute_result"
    }
   ],
   "source": [
    "dataX"
   ]
  },
  {
   "cell_type": "code",
   "execution_count": 16,
   "metadata": {},
   "outputs": [],
   "source": [
    "futDataDF = pd.DataFrame(dataX['Success'])\n",
    "futDataDF.to_csv(f'./dataX/NF2023/OPT_{str(startDate.date())}.csv', mode='a',index=False, header=False)"
   ]
  },
  {
   "cell_type": "code",
   "execution_count": null,
   "metadata": {},
   "outputs": [],
   "source": []
  }
 ],
 "metadata": {
  "kernelspec": {
   "display_name": "Python 3.9.13 64-bit",
   "language": "python",
   "name": "python3"
  },
  "language_info": {
   "codemirror_mode": {
    "name": "ipython",
    "version": 3
   },
   "file_extension": ".py",
   "mimetype": "text/x-python",
   "name": "python",
   "nbconvert_exporter": "python",
   "pygments_lexer": "ipython3",
   "version": "3.11.2"
  },
  "orig_nbformat": 4,
  "vscode": {
   "interpreter": {
    "hash": "aee8b7b246df8f9039afb4144a1f6fd8d2ca17a180786b69acc140d282b71a49"
   }
  }
 },
 "nbformat": 4,
 "nbformat_minor": 2
}
